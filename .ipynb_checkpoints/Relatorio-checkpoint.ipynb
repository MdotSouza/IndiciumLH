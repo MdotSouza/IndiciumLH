{
 "cells": [
  {
   "cell_type": "markdown",
   "metadata": {},
   "source": [
    "# RELATÓRIO FINAL\n",
    "\n",
    "Nome: Michel Souza\n",
    "\n",
    "Repositório: https://github.com/MdotSouza/IndiciumLH"
   ]
  },
  {
   "cell_type": "markdown",
   "metadata": {},
   "source": [
    "### Introdução\n",
    "---\n",
    "O objetivo do projeto é analisar os dados referente a área de revenda dos automóveis usados, para responder às perguntas de negócios feitas pelo cliente e criar um modelo preditivo que precifique os carros, de tal forma que eles fiquem o mais próximos dos valores de mercado.\n",
    "\n",
    "Para isso, foi utilizado dois datasets, um para treinamento e outro para validação, aplicando processos de extração, transformação e carga de dados (ETL), análise exploratória de dados (EDA) e algoritmo de aprendizado de máquina para problema de regressão (ML).\n",
    "\n",
    "Durante o desenvolvimento foram gerados 4 arquivos principais que devem ser executados em cascata:\n",
    " - __init__.py utilizado para organizar os diretórios e gerenciar as operações de leitura e escrita de arquivos;\n",
    " - ETL.ipynb utilizado para fazer o tratamento dos conjuntos e gerar um arquivo tratado;\n",
    " - EDA.ipynb utilizado para gerar as análises principais e responder as questões de negócio;\n",
    " - ML.ipynb utilizado para aplicar o modelo de aprendizado e gerar o  arquivo de predição.\n",
    "\n",
    "Foi utilizado um ambiente virtual, para facilitar as questões de dependência entre pacotes importados.\n",
    "\n",
    "\n"
   ]
  },
  {
   "cell_type": "markdown",
   "metadata": {},
   "source": [
    "### Extração, Transformação e Carga (ETL)\n",
    "---\n",
    "Este foi o procedimento inicial do projeto. Os conjuntos foram importados dos arquivos fornecidos, observados a partir de uma série de investigações,como quantidade de nulos, duplicados e se os tipos de dados estavam coerentes.\n",
    "\n",
    "Em seguida, foram realizadas transformações de dados para otimização das demais etapas. Entre as transformações se destacam:\n",
    "- Refatoramento da feature versao (retirada apenas as informações do tipo do motor e descartadas as demais);\n",
    "\n",
    "- Preenchimento dos valores nulos, utilizando a mediana, para as variáveis com mais de duas categorias, e o valor ZERO, para variáveis com apenas duas categorias, se comportando como binária;\n",
    "\n",
    "- Remoção de features sem utilização no projeto;\n",
    "\n",
    "- Codificação ordinal das variáveis categóricas.\n",
    "\n",
    "No final desta etapa foi feita a eportação dos conjuntos tratados, para arquivos no formato csv, e as informações do codificação de variáveis num arquivo de formato json.\n",
    "\n",
    "\n"
   ]
  },
  {
   "cell_type": "markdown",
   "metadata": {},
   "source": [
    "### Análise Exploratória dos Dados (EDA)\n",
    "---\n",
    "\n",
    "Neste procedimento foram realizadas diversas verificações nos dados disponíveis. Como extração das medidas estatísticas de posição e visualização gráfica da variável target, bem como as relações com as features.\n",
    "\n",
    "Dentre os procedimentos, se destacam:\n",
    "- Aplicação de log na variável preço, para diminuir a assimetria e assim a variável teve um comportamento de distribuição normal;\n",
    "\n",
    "- Cálculo dos coeficientes de relação de Pearson e apresentação da matriz de correlação, importante para identificar quais features tem influência maior sobre o target;\n",
    "\n",
    "- Visualização gráfica das realações entre features e target, para identificar o comportamento do conjunto de dados;\n",
    "\n",
    "- Respostas para as questões de negócio.\n",
    "\n",
    "Durante o processo, foi verificado a partir de gráficos do tipo boxplot, que as variáveis tinham uma distribuição melhor, quando associadas ao log do preço. Sendo assim, no modelo de aprendizado, seria melhor aplicar o log no target.\n",
    "\n",
    "Quanto às questões de negócio, após aplicar as análises, conlui-se que:\n",
    "\n",
    "- O melhor estado cadastrado na base de dados para se vender um carro de marca popular é o Espírito Santo (ES), pois possui a maior média de preço de venda entre carros populares. Vale ressaltar que o critério de definição de carro popular foi estabelecido através da análise do primeiro quartil (Q1). Todos os carros abaixo do Q1 foram considerados populares;\n",
    "\n",
    "- O Mato Grosso do Sul (MS) é o melhor estado para se comprar uma picape com transmissão automática, pois possui o menor preço médio entre os estados, conforme critério solicitado;\n",
    "\n",
    "- E, finalmente, o melhor estado para se comprar carros que ainda estejam dentro da garantia de fábrica é o Paraná (PR). Este estado possui o menor preço médio entre os demais, respeitando o critério estabelecido.\n",
    "\n",
    "\n"
   ]
  },
  {
   "cell_type": "markdown",
   "metadata": {},
   "source": [
    "### Aprendizado de Máquina (ML)\n",
    "---\n",
    "Este foi o procedimento final do projeto. Através do modelo XGBoost, foi realizada a predição do preço. Foram utilizadas as métricas R2, MAE e MSE, amplamente utilizadas para verificação de desempenho de problemas de regressão.\n",
    "\n",
    "Por fim, foi gerado o arquivo predict.csv, contendo as previsões dos preços do conjunto cars_test.csv.\n",
    "\n",
    "Como sugestão de melhoria, poderiam ser testados outros modelos, além de aplicar outras técnicas, como otimização de hiperparâmetros através de GridSearch e compreensão da robustez do modelo, através de teste com K-fold."
   ]
  }
 ],
 "metadata": {
  "kernelspec": {
   "display_name": "Python 3 (ipykernel)",
   "language": "python",
   "name": "python3"
  },
  "language_info": {
   "codemirror_mode": {
    "name": "ipython",
    "version": 3
   },
   "file_extension": ".py",
   "mimetype": "text/x-python",
   "name": "python",
   "nbconvert_exporter": "python",
   "pygments_lexer": "ipython3",
   "version": "3.7.3"
  }
 },
 "nbformat": 4,
 "nbformat_minor": 2
}
